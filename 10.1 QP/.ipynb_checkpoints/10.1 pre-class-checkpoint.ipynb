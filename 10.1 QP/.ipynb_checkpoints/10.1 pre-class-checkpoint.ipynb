{
 "cells": [
  {
   "cell_type": "markdown",
   "metadata": {},
   "source": [
    "Source: https://www.cvxpy.org/examples/basic/quadratic_program.html"
   ]
  },
  {
   "cell_type": "code",
   "execution_count": 56,
   "metadata": {},
   "outputs": [],
   "source": [
    "import cvxpy as cp\n",
    "import numpy as np\n",
    "import pandas as pd"
   ]
  },
  {
   "cell_type": "code",
   "execution_count": 82,
   "metadata": {},
   "outputs": [],
   "source": [
    "pre_data = pd.read_csv(\"port5.txt\", header=None, \n",
    "                       delim_whitespace=True, \n",
    "                       names= ['a','b','c'],\n",
    "                       engine='python')"
   ]
  },
  {
   "cell_type": "code",
   "execution_count": 69,
   "metadata": {},
   "outputs": [],
   "source": [
    "mu = pre_data.iloc[1:226,0].values\n",
    "std = pre_data.iloc[1:226,1].values\n",
    "K = np.zeros([225,225])"
   ]
  },
  {
   "cell_type": "code",
   "execution_count": 80,
   "metadata": {},
   "outputs": [],
   "source": [
    "for r in range(226,pre_data.shape[0]):\n",
    "    row = pre_data.iloc[r,]\n",
    "    i,j,corr_ij = int(row[0])-1,int(row[1])-1,row[2]\n",
    "    K[i][j] = corr_ij\n",
    "    K[j][i] = corr_ij"
   ]
  },
  {
   "cell_type": "code",
   "execution_count": 83,
   "metadata": {},
   "outputs": [],
   "source": [
    "C = np.zeros([225,225])\n",
    "for i in range(225):\n",
    "    for j in range(225):\n",
    "        cov = K[i][j]*std[i]*std[j]\n",
    "        C[i][j] = cov\n",
    "        C[j][i] = cov"
   ]
  },
  {
   "cell_type": "code",
   "execution_count": 142,
   "metadata": {},
   "outputs": [],
   "source": [
    "np.ones(225)@x\n",
    "G = np.zeros([226,225])\n",
    "G[0]=mu\n",
    "for i in range(1,226):\n",
    "    row = np.zeros(225)\n",
    "    row[i-1] = 1\n",
    "    G[i] = row\n",
    "b = np.zeros(226)\n",
    "b[0] = -0.002"
   ]
  },
  {
   "cell_type": "code",
   "execution_count": 141,
   "metadata": {},
   "outputs": [
    {
     "name": "stdout",
     "output_type": "stream",
     "text": [
      "\n",
      "The optimal value is 0.0001949121256655089\n",
      "A solution x is\n",
      "[0.         0.         0.         0.         0.         0.\n",
      " 0.         0.         0.07952256 0.         0.         0.\n",
      " 0.         0.         0.         0.         0.         0.\n",
      " 0.         0.         0.         0.         0.         0.\n",
      " 0.         0.         0.         0.         0.         0.\n",
      " 0.         0.         0.         0.         0.         0.\n",
      " 0.         0.         0.         0.08659791 0.         0.\n",
      " 0.08119937 0.         0.         0.         0.         0.\n",
      " 0.         0.         0.         0.         0.         0.\n",
      " 0.         0.         0.         0.         0.         0.12008027\n",
      " 0.         0.25674235 0.         0.         0.         0.\n",
      " 0.         0.         0.         0.         0.         0.\n",
      " 0.         0.         0.         0.         0.         0.\n",
      " 0.         0.         0.         0.         0.         0.\n",
      " 0.         0.         0.         0.         0.         0.\n",
      " 0.         0.         0.         0.         0.         0.\n",
      " 0.05926842 0.         0.         0.         0.         0.\n",
      " 0.         0.         0.         0.         0.         0.\n",
      " 0.         0.         0.         0.         0.         0.\n",
      " 0.         0.         0.         0.         0.         0.\n",
      " 0.         0.         0.         0.         0.         0.\n",
      " 0.         0.         0.07411411 0.         0.         0.\n",
      " 0.         0.         0.         0.         0.         0.\n",
      " 0.         0.         0.         0.         0.         0.\n",
      " 0.         0.         0.         0.         0.         0.\n",
      " 0.         0.         0.         0.         0.         0.\n",
      " 0.         0.         0.         0.         0.         0.\n",
      " 0.         0.         0.         0.         0.         0.\n",
      " 0.         0.         0.05727539 0.         0.         0.\n",
      " 0.         0.         0.         0.         0.         0.\n",
      " 0.         0.         0.         0.         0.         0.\n",
      " 0.         0.         0.         0.         0.         0.\n",
      " 0.         0.         0.         0.0980226  0.         0.\n",
      " 0.         0.         0.         0.         0.         0.\n",
      " 0.         0.         0.         0.         0.         0.\n",
      " 0.         0.         0.         0.         0.06884157 0.\n",
      " 0.         0.         0.         0.         0.         0.\n",
      " 0.         0.         0.01833545]\n"
     ]
    },
    {
     "data": {
      "text/plain": [
       "1.0"
      ]
     },
     "execution_count": 141,
     "metadata": {},
     "output_type": "execute_result"
    }
   ],
   "source": [
    "x = cp.Variable(225)\n",
    "prob = cp.Problem(cp.Minimize((1/2)*cp.quad_form(x,C)),\n",
    "                  [-G@x <= b ,\n",
    "                   np.ones(225)@x == 1])\n",
    "prob.solve()\n",
    "\n",
    "sol = x.value\n",
    "solution = np.zeros(225)\n",
    "for i in range(225):\n",
    "    if np.abs(sol[i]) > 1e-10:\n",
    "        solution[i]=sol[i]\n",
    "        \n",
    "print(\"\\nThe optimal value is\", prob.value)\n",
    "print(\"A solution x is\")\n",
    "print(solution)\n",
    "np.sum(solution)"
   ]
  }
 ],
 "metadata": {
  "kernelspec": {
   "display_name": "Python 3",
   "language": "python",
   "name": "python3"
  },
  "language_info": {
   "codemirror_mode": {
    "name": "ipython",
    "version": 3
   },
   "file_extension": ".py",
   "mimetype": "text/x-python",
   "name": "python",
   "nbconvert_exporter": "python",
   "pygments_lexer": "ipython3",
   "version": "3.7.2"
  }
 },
 "nbformat": 4,
 "nbformat_minor": 2
}
