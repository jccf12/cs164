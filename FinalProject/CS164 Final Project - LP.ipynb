{
 "cells": [
  {
   "cell_type": "code",
   "execution_count": 8,
   "metadata": {},
   "outputs": [],
   "source": [
    "import numpy as np\n",
    "import pandas as pd\n",
    "import cvxpy as cp"
   ]
  },
  {
   "cell_type": "code",
   "execution_count": 30,
   "metadata": {},
   "outputs": [
    {
     "data": {
      "text/plain": [
       "array([[0.25, 0.21, 0.21, 0.17, 0.16],\n",
       "       [0.43, 0.26, 0.15, 0.09, 0.06],\n",
       "       [0.45, 0.12, 0.08, 0.23, 0.11],\n",
       "       [0.13, 0.24, 0.2 , 0.27, 0.15],\n",
       "       [0.1 , 0.13, 0.03, 0.39, 0.35]])"
      ]
     },
     "execution_count": 30,
     "metadata": {},
     "output_type": "execute_result"
    }
   ],
   "source": [
    "n = 5\n",
    "A = np.zeros([n,n])\n",
    "for j in range(5):\n",
    "    A[0] = [np.random.random()*(1+int(x==0)) for x in range(5)]\n",
    "    A[0] = A[0]/np.sum(A[0])\n",
    "\n",
    "for i in range(1,5):\n",
    "    A[i] =[np.random.random()*3]+[np.random.random()*(3-int((abs(i-j)+1)/2)) for j in range(1,5)]\n",
    "    A[i] = A[i]/np.sum(A[i])\n",
    "    \n",
    "\n",
    "A = np.round(A,2)\n",
    "A"
   ]
  },
  {
   "cell_type": "code",
   "execution_count": 102,
   "metadata": {},
   "outputs": [
    {
     "data": {
      "text/plain": [
       "array([[0.5, 0.5],\n",
       "       [0.5, 0.5]])"
      ]
     },
     "execution_count": 102,
     "metadata": {},
     "output_type": "execute_result"
    }
   ],
   "source": [
    "A1 = np.array([[0.5,0.5],[0.5,0.5]])\n",
    "A1"
   ]
  },
  {
   "cell_type": "code",
   "execution_count": null,
   "metadata": {},
   "outputs": [],
   "source": [
    "#x_1 = A@x_0 + B@u\n",
    "#B=identity/m"
   ]
  },
  {
   "cell_type": "code",
   "execution_count": 112,
   "metadata": {},
   "outputs": [],
   "source": [
    "optimal_distribution = np.array([42,17,13,20,8])\n",
    "# od = np.array([0.5,0.5])"
   ]
  },
  {
   "cell_type": "code",
   "execution_count": 125,
   "metadata": {},
   "outputs": [],
   "source": [
    "#say there are m number of scooters\n",
    "x0 = np.array([30,20,20,15,15])\n",
    "# x01 = np.array([0.4,0.6])\n",
    "m = 100\n",
    "n=5\n",
    "# n1=2\n",
    "\n",
    "y = optimal_distribution-np.dot(A,x0)\n",
    "# y1= od-np.dot(A1,x01)\n",
    "#parameters (inputs)\n",
    "u = cp.Variable(n**2)\n",
    "# u1 = cp.Variable(n1**2, integer=True)\n",
    "#introduced slack variable\n",
    "s = cp.Variable(n)\n",
    "#1 transpose\n",
    "c = np.ones(n)\n",
    "#X matrix as defined in assignment instructions = B\n",
    "X = np.zeros([n**2,n])\n",
    "for i in range(n**2):\n",
    "    for j in range(n):\n",
    "        a = int(i/n)\n",
    "        b = (i)%n\n",
    "        if j == a:\n",
    "            if b != a:\n",
    "                X[i][j] = -1\n",
    "        if j == b:\n",
    "            if b != a:\n",
    "                X[i][j] = 1\n",
    "#Y vector as defined in assignment instructions\n",
    "Y = y.reshape(-1)"
   ]
  },
  {
   "cell_type": "code",
   "execution_count": 128,
   "metadata": {},
   "outputs": [
    {
     "name": "stdout",
     "output_type": "stream",
     "text": [
      "\n",
      "The optimal value is 47.393742942368995\n",
      "A solution u is\n",
      "[-0.  -0.  -0.  -0.  -0.   2.1 -0.  -0.   0.1 -0.   3.5 -0.  -0.   0.1\n",
      " -0.  -0.  -0.  -0.  -0.  -0.   3.3 -0.  -0.   0.1 -0. ]\n"
     ]
    }
   ],
   "source": [
    "#solving the LP for l-1 norm\n",
    "#including the two separated constraints of the slack variable\n",
    "constraints1 = [-u@X-s <= -Y,\n",
    "                u@X-s <= Y,\n",
    "               np.ones(n**2)@u <= 100,\n",
    "                u >= 0\n",
    "               ]\n",
    "\n",
    "prob = cp.Problem(cp.Minimize(c.T@s+2*np.ones(n**2)@u),\n",
    "                 constraints1)\n",
    "prob.solve()\n",
    "\n",
    "print(\"\\nThe optimal value is\", prob.value)\n",
    "print(\"A solution u is\")\n",
    "print(np.round(u.value,1))\n",
    "# sol= np.round(u.value,5)"
   ]
  },
  {
   "cell_type": "code",
   "execution_count": 115,
   "metadata": {},
   "outputs": [
    {
     "data": {
      "text/plain": [
       "array([42, 17, 13, 20,  8])"
      ]
     },
     "execution_count": 115,
     "metadata": {},
     "output_type": "execute_result"
    }
   ],
   "source": [
    "optimal_distribution"
   ]
  },
  {
   "cell_type": "code",
   "execution_count": 116,
   "metadata": {},
   "outputs": [
    {
     "data": {
      "text/plain": [
       "array([21., -5., -8.,  1., -9.])"
      ]
     },
     "execution_count": 116,
     "metadata": {},
     "output_type": "execute_result"
    }
   ],
   "source": [
    "np.round(np.dot(u.value,X),4)"
   ]
  },
  {
   "cell_type": "code",
   "execution_count": 119,
   "metadata": {},
   "outputs": [
    {
     "data": {
      "text/plain": [
       "array([20.85, 23.35, 22.6 , 19.  , 17.3 ])"
      ]
     },
     "execution_count": 119,
     "metadata": {},
     "output_type": "execute_result"
    }
   ],
   "source": [
    "np.dot(A,x0)"
   ]
  },
  {
   "cell_type": "code",
   "execution_count": 117,
   "metadata": {},
   "outputs": [
    {
     "data": {
      "text/plain": [
       "array([ 0.15, -1.35, -1.6 ,  0.  , -0.3 ])"
      ]
     },
     "execution_count": 117,
     "metadata": {},
     "output_type": "execute_result"
    }
   ],
   "source": [
    "y-np.dot(u.value,X)"
   ]
  },
  {
   "cell_type": "code",
   "execution_count": 85,
   "metadata": {},
   "outputs": [
    {
     "data": {
      "text/plain": [
       "array([[1., 0., 0., 0., 0.],\n",
       "       [1., 0., 0., 0., 0.],\n",
       "       [1., 0., 0., 0., 0.],\n",
       "       [1., 0., 0., 0., 0.],\n",
       "       [1., 0., 0., 0., 0.],\n",
       "       [0., 1., 0., 0., 0.],\n",
       "       [0., 1., 0., 0., 0.],\n",
       "       [0., 1., 0., 0., 0.],\n",
       "       [0., 1., 0., 0., 0.],\n",
       "       [0., 1., 0., 0., 0.],\n",
       "       [0., 0., 1., 0., 0.],\n",
       "       [0., 0., 1., 0., 0.],\n",
       "       [0., 0., 1., 0., 0.],\n",
       "       [0., 0., 1., 0., 0.],\n",
       "       [0., 0., 1., 0., 0.],\n",
       "       [0., 0., 0., 1., 0.],\n",
       "       [0., 0., 0., 1., 0.],\n",
       "       [0., 0., 0., 1., 0.],\n",
       "       [0., 0., 0., 1., 0.],\n",
       "       [0., 0., 0., 1., 0.],\n",
       "       [0., 0., 0., 0., 1.],\n",
       "       [0., 0., 0., 0., 1.],\n",
       "       [0., 0., 0., 0., 1.],\n",
       "       [0., 0., 0., 0., 1.],\n",
       "       [0., 0., 0., 0., 1.]])"
      ]
     },
     "execution_count": 85,
     "metadata": {},
     "output_type": "execute_result"
    }
   ],
   "source": [
    "X"
   ]
  },
  {
   "cell_type": "code",
   "execution_count": null,
   "metadata": {},
   "outputs": [],
   "source": []
  }
 ],
 "metadata": {
  "kernelspec": {
   "display_name": "Python 3",
   "language": "python",
   "name": "python3"
  },
  "language_info": {
   "codemirror_mode": {
    "name": "ipython",
    "version": 3
   },
   "file_extension": ".py",
   "mimetype": "text/x-python",
   "name": "python",
   "nbconvert_exporter": "python",
   "pygments_lexer": "ipython3",
   "version": "3.7.2"
  }
 },
 "nbformat": 4,
 "nbformat_minor": 2
}
