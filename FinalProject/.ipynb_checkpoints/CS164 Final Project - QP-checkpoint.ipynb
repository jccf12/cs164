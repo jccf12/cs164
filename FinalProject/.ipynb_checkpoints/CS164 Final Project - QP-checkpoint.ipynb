{
 "cells": [
  {
   "cell_type": "code",
   "execution_count": 208,
   "metadata": {},
   "outputs": [],
   "source": [
    "import numpy as np\n",
    "import pandas as pd\n",
    "import cvxpy as cp\n",
    "from IPython.display import display"
   ]
  },
  {
   "cell_type": "code",
   "execution_count": 211,
   "metadata": {},
   "outputs": [],
   "source": [
    "np.random.seed(0)\n",
    "n = 5\n",
    "A = np.zeros([n,n])\n",
    "for j in range(5):\n",
    "    A[0] = [np.random.random()*(1+int(x==0)) for x in range(5)]\n",
    "    A[0] = A[0]/np.sum(A[0])\n",
    "\n",
    "for i in range(1,5):\n",
    "    A[i] =[np.random.random()*3]+[np.random.random()*(3-int((abs(i-j)+1)/2)) for j in range(1,5)]\n",
    "    A[i] = A[i]/np.sum(A[i])"
   ]
  },
  {
   "cell_type": "code",
   "execution_count": 213,
   "metadata": {},
   "outputs": [
    {
     "data": {
      "text/plain": [
       "array([[0.475, 0.194, 0.112, 0.19 , 0.029],\n",
       "       [0.337, 0.075, 0.332, 0.183, 0.073],\n",
       "       [0.162, 0.317, 0.28 , 0.233, 0.008],\n",
       "       [0.218, 0.144, 0.145, 0.333, 0.16 ],\n",
       "       [0.214, 0.087, 0.277, 0.024, 0.398]])"
      ]
     },
     "metadata": {},
     "output_type": "display_data"
    }
   ],
   "source": [
    "display(np.round(A,3))"
   ]
  },
  {
   "cell_type": "code",
   "execution_count": 189,
   "metadata": {},
   "outputs": [],
   "source": [
    "O = np.array([42,17,13,20,8])\n",
    "x0 = np.array([10,50,10,10,10])*5\n",
    "B = np.zeros([n**2,n])\n",
    "for i in range(n**2):\n",
    "    for j in range(n):\n",
    "        a = int(i/n)\n",
    "        b = (i)%n\n",
    "        if j == a:\n",
    "            if b != a:\n",
    "                B[i][j] = -1\n",
    "        if j == b:\n",
    "            if b != a:\n",
    "                B[i][j] = 1"
   ]
  },
  {
   "cell_type": "code",
   "execution_count": 190,
   "metadata": {},
   "outputs": [],
   "source": [
    "K = np.zeros([n,n**2])\n",
    "for i in range(n):\n",
    "    a = np.zeros(n**2)\n",
    "    for z in range(n):\n",
    "        a[i*n+z]=1\n",
    "    K[i,:] = a\n",
    "K = K.transpose()"
   ]
  },
  {
   "cell_type": "code",
   "execution_count": 200,
   "metadata": {},
   "outputs": [
    {
     "data": {
      "text/plain": [
       "26389.82364362983"
      ]
     },
     "execution_count": 200,
     "metadata": {},
     "output_type": "execute_result"
    }
   ],
   "source": [
    "u = cp.Variable(n**2, integer=True)\n",
    "objective = cp.Minimize(cp.sum_squares(O-A@x0-u@B)+np.ones(n**2)@u)\n",
    "constraints = [\n",
    "               np.ones(n**2)@u <= 50,\n",
    "                u >= 0,\n",
    "                u@K-x0 <= 0\n",
    "               ]\n",
    "\n",
    "prob = cp.Problem(objective,\n",
    "                 constraints)\n",
    "prob.solve()"
   ]
  },
  {
   "cell_type": "code",
   "execution_count": 201,
   "metadata": {},
   "outputs": [
    {
     "name": "stdout",
     "output_type": "stream",
     "text": [
      "[ 0. -0. -0. -0.  0.]\n",
      "[5. 0. 0. 0. 1.]\n",
      "[18. -0.  0.  0. 12.]\n",
      "[ 6. -0.  0.  0.  8.]\n",
      "[ 0. -0. -0. -0.  0.]\n"
     ]
    }
   ],
   "source": [
    "sol = np.round(u.value)\n",
    "for i in range(5):\n",
    "    print(sol[5*i:5*i+5])"
   ]
  },
  {
   "cell_type": "code",
   "execution_count": 174,
   "metadata": {},
   "outputs": [
    {
     "data": {
      "text/plain": [
       "array([ 38.02099855, -51.22223384, -51.2831508 , -15.06305266,\n",
       "       -50.30088017])"
      ]
     },
     "execution_count": 174,
     "metadata": {},
     "output_type": "execute_result"
    }
   ],
   "source": [
    "O-A@x0-u.value@B"
   ]
  },
  {
   "cell_type": "code",
   "execution_count": 70,
   "metadata": {},
   "outputs": [
    {
     "data": {
      "text/plain": [
       "array([ 21.,  -2.,  -7.,   0., -12.])"
      ]
     },
     "execution_count": 70,
     "metadata": {},
     "output_type": "execute_result"
    }
   ],
   "source": [
    "sol@B"
   ]
  },
  {
   "cell_type": "code",
   "execution_count": 73,
   "metadata": {},
   "outputs": [
    {
     "data": {
      "text/plain": [
       "array([21.79968649, 20.47094088, 21.312894  , 20.61808105, 20.12131263])"
      ]
     },
     "execution_count": 73,
     "metadata": {},
     "output_type": "execute_result"
    }
   ],
   "source": [
    "np.dot(A,x0)"
   ]
  },
  {
   "cell_type": "code",
   "execution_count": 72,
   "metadata": {},
   "outputs": [
    {
     "data": {
      "text/plain": [
       "array([42, 17, 13, 20,  8])"
      ]
     },
     "execution_count": 72,
     "metadata": {},
     "output_type": "execute_result"
    }
   ],
   "source": [
    "O"
   ]
  }
 ],
 "metadata": {
  "kernelspec": {
   "display_name": "Python 3",
   "language": "python",
   "name": "python3"
  },
  "language_info": {
   "codemirror_mode": {
    "name": "ipython",
    "version": 3
   },
   "file_extension": ".py",
   "mimetype": "text/x-python",
   "name": "python",
   "nbconvert_exporter": "python",
   "pygments_lexer": "ipython3",
   "version": "3.7.2"
  }
 },
 "nbformat": 4,
 "nbformat_minor": 2
}
