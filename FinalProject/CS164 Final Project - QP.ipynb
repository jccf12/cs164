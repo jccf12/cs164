{
 "cells": [
  {
   "cell_type": "markdown",
   "metadata": {},
   "source": [
    "### Appendix B: Mixed Integer Programming"
   ]
  },
  {
   "cell_type": "code",
   "execution_count": 1,
   "metadata": {},
   "outputs": [],
   "source": [
    "import numpy as np\n",
    "import pandas as pd\n",
    "import cvxpy as cp\n",
    "from IPython.display import display"
   ]
  },
  {
   "cell_type": "code",
   "execution_count": 2,
   "metadata": {},
   "outputs": [],
   "source": [
    "np.random.seed(0)\n",
    "n = 5\n",
    "A = np.zeros([n,n])\n",
    "for j in range(5):\n",
    "    #do a multiplier times 2 for staying in the center of the city\n",
    "    A[0] = [np.random.random()*(1+int(x==0)) for x in range(5)]\n",
    "    A[0] = A[0]/np.sum(A[0])\n",
    "\n",
    "for i in range(1,5):\n",
    "    #if the location is close then do a multiplier\n",
    "    A[i] =[np.random.random()*3]+[np.random.random()*(3-int((abs(i-j)+1)/2)) for j in range(1,5)]\n",
    "    A[i] = A[i]/np.sum(A[i])"
   ]
  },
  {
   "cell_type": "code",
   "execution_count": 3,
   "metadata": {},
   "outputs": [
    {
     "data": {
      "text/plain": [
       "array([[0.475, 0.194, 0.112, 0.19 , 0.029],\n",
       "       [0.337, 0.075, 0.332, 0.183, 0.073],\n",
       "       [0.162, 0.317, 0.28 , 0.233, 0.008],\n",
       "       [0.218, 0.144, 0.145, 0.333, 0.16 ],\n",
       "       [0.214, 0.087, 0.277, 0.024, 0.398]])"
      ]
     },
     "metadata": {},
     "output_type": "display_data"
    }
   ],
   "source": [
    "display(np.round(A,3))"
   ]
  },
  {
   "cell_type": "code",
   "execution_count": 4,
   "metadata": {},
   "outputs": [],
   "source": [
    "np.random.seed(0)\n",
    "#arbitraty optimal ditribution\n",
    "O = np.array([42,17,13,20,8])*5\n",
    "#random vector to randomly create initial distribution\n",
    "d = np.round(np.random.normal(0, 15, 5))\n",
    "#initial distribution\n",
    "x0 = np.round((O+d)/np.sum(O+d)*500)\n",
    "#B matrix described in the assignment\n",
    "B = np.zeros([n**2,n])\n",
    "for i in range(n**2):\n",
    "    for j in range(n):\n",
    "        a = int(i/n)\n",
    "        b = (i)%n\n",
    "        if j == a:\n",
    "            if b != a:\n",
    "                B[i][j] = -1\n",
    "        if j == b:\n",
    "            if b != a:\n",
    "                B[i][j] = 1"
   ]
  },
  {
   "cell_type": "code",
   "execution_count": 5,
   "metadata": {},
   "outputs": [],
   "source": [
    "#K matrix to ensure that we don't relocate more scooters than\n",
    "#what there are in a given location\n",
    "K = np.zeros([n,n**2])\n",
    "for i in range(n):\n",
    "    a = np.zeros(n**2)\n",
    "    for z in range(n):\n",
    "        a[i*n+z]=1\n",
    "    K[i,:] = a\n",
    "K = K.transpose()"
   ]
  },
  {
   "cell_type": "code",
   "execution_count": 6,
   "metadata": {},
   "outputs": [
    {
     "name": "stdout",
     "output_type": "stream",
     "text": [
      "C =  I*5 . Solution = 989.54\n"
     ]
    },
    {
     "data": {
      "text/html": [
       "<div>\n",
       "<style scoped>\n",
       "    .dataframe tbody tr th:only-of-type {\n",
       "        vertical-align: middle;\n",
       "    }\n",
       "\n",
       "    .dataframe tbody tr th {\n",
       "        vertical-align: top;\n",
       "    }\n",
       "\n",
       "    .dataframe thead th {\n",
       "        text-align: right;\n",
       "    }\n",
       "</style>\n",
       "<table border=\"1\" class=\"dataframe\">\n",
       "  <thead>\n",
       "    <tr style=\"text-align: right;\">\n",
       "      <th></th>\n",
       "      <th>0</th>\n",
       "      <th>1</th>\n",
       "      <th>2</th>\n",
       "      <th>3</th>\n",
       "      <th>4</th>\n",
       "    </tr>\n",
       "  </thead>\n",
       "  <tbody>\n",
       "    <tr>\n",
       "      <td>0</td>\n",
       "      <td>0.0</td>\n",
       "      <td>0.0</td>\n",
       "      <td>0.0</td>\n",
       "      <td>0.0</td>\n",
       "      <td>0.0</td>\n",
       "    </tr>\n",
       "    <tr>\n",
       "      <td>1</td>\n",
       "      <td>20.0</td>\n",
       "      <td>0.0</td>\n",
       "      <td>0.0</td>\n",
       "      <td>0.0</td>\n",
       "      <td>0.0</td>\n",
       "    </tr>\n",
       "    <tr>\n",
       "      <td>2</td>\n",
       "      <td>23.0</td>\n",
       "      <td>0.0</td>\n",
       "      <td>0.0</td>\n",
       "      <td>0.0</td>\n",
       "      <td>0.0</td>\n",
       "    </tr>\n",
       "    <tr>\n",
       "      <td>3</td>\n",
       "      <td>0.0</td>\n",
       "      <td>0.0</td>\n",
       "      <td>0.0</td>\n",
       "      <td>0.0</td>\n",
       "      <td>0.0</td>\n",
       "    </tr>\n",
       "    <tr>\n",
       "      <td>4</td>\n",
       "      <td>39.0</td>\n",
       "      <td>0.0</td>\n",
       "      <td>0.0</td>\n",
       "      <td>1.0</td>\n",
       "      <td>0.0</td>\n",
       "    </tr>\n",
       "  </tbody>\n",
       "</table>\n",
       "</div>"
      ],
      "text/plain": [
       "      0    1    2    3    4\n",
       "0   0.0  0.0  0.0  0.0  0.0\n",
       "1  20.0  0.0  0.0  0.0  0.0\n",
       "2  23.0  0.0  0.0  0.0  0.0\n",
       "3   0.0  0.0  0.0  0.0  0.0\n",
       "4  39.0  0.0  0.0  1.0  0.0"
      ]
     },
     "metadata": {},
     "output_type": "display_data"
    }
   ],
   "source": [
    "#multiplier\n",
    "s = 5\n",
    "#coefficient of the cost of relocating the scooter\n",
    "C = np.ones(n**2)*s\n",
    "#input varibale\n",
    "u = cp.Variable(n**2, integer=True)\n",
    "#objective and constraints as defined in paper\n",
    "objective = cp.Minimize(cp.sum_squares(O-A@x0-u@B)+C@u)\n",
    "constraints = [\n",
    "               np.ones(n**2)@u <= 100,\n",
    "                u >= 0,\n",
    "                u@K-x0 <= 0\n",
    "               ]\n",
    "prob = cp.Problem(objective,\n",
    "                 constraints)\n",
    "solution = prob.solve()\n",
    "sol = np.round(u.value)\n",
    "print('C =  I*{0} . Solution = {1}'.format(s,np.round(solution,2)))\n",
    "display(pd.DataFrame(sol.reshape(5,5)))"
   ]
  }
 ],
 "metadata": {
  "kernelspec": {
   "display_name": "Python 3",
   "language": "python",
   "name": "python3"
  },
  "language_info": {
   "codemirror_mode": {
    "name": "ipython",
    "version": 3
   },
   "file_extension": ".py",
   "mimetype": "text/x-python",
   "name": "python",
   "nbconvert_exporter": "python",
   "pygments_lexer": "ipython3",
   "version": "3.7.2"
  }
 },
 "nbformat": 4,
 "nbformat_minor": 2
}
