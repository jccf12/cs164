{
 "cells": [
  {
   "cell_type": "code",
   "execution_count": 3,
   "metadata": {},
   "outputs": [],
   "source": [
    "import numpy as np"
   ]
  },
  {
   "cell_type": "code",
   "execution_count": 4,
   "metadata": {},
   "outputs": [],
   "source": [
    "f = lambda x, y: np.log(x) + np.log(y)\n",
    "def h(x,y):\n",
    "    f_1 = lambda x, y: x+y**2 -2 # constraint\n",
    "    f_2 = lambda x,y : -x\n",
    "    f_3 = lambda x,y: -y\n",
    "    F = np.array([f_1(x,y), f_2(x,y), f_3(x,y)])\n",
    "    return np.amax(F), np.argmax(F)\n",
    "\n",
    "def nabla_f(x, y):\n",
    "    return 1/x, 1/y\n",
    "\n",
    "def nabla_h(x,y, max_f):\n",
    "    if max_f == 0:\n",
    "        return 1, 2*y\n",
    "    elif max_f == 1:\n",
    "        return -1, 0\n",
    "    else:\n",
    "        return 0, -1"
   ]
  },
  {
   "cell_type": "code",
   "execution_count": 7,
   "metadata": {},
   "outputs": [
    {
     "name": "stdout",
     "output_type": "stream",
     "text": [
      "[inf] [inf]\n",
      "[[[inf]\n",
      "  [inf]]]\n"
     ]
    },
    {
     "name": "stderr",
     "output_type": "stream",
     "text": [
      "/Library/Frameworks/Python.framework/Versions/3.7/lib/python3.7/site-packages/ipykernel_launcher.py:10: RuntimeWarning: divide by zero encountered in true_divide\n",
      "  # Remove the CWD from sys.path while we load stuff.\n"
     ]
    },
    {
     "ename": "ValueError",
     "evalue": "matmul: Input operand 1 has a mismatch in its core dimension 0, with gufunc signature (n?,k),(k,m?)->(n?,m?) (size 2 is different from 1)",
     "output_type": "error",
     "traceback": [
      "\u001b[0;31m---------------------------------------------------------------------------\u001b[0m",
      "\u001b[0;31mValueError\u001b[0m                                Traceback (most recent call last)",
      "\u001b[0;32m<ipython-input-7-5782668f63aa>\u001b[0m in \u001b[0;36m<module>\u001b[0;34m\u001b[0m\n\u001b[1;32m     15\u001b[0m     \u001b[0mg\u001b[0m \u001b[0;34m=\u001b[0m \u001b[0mnp\u001b[0m\u001b[0;34m.\u001b[0m\u001b[0marray\u001b[0m\u001b[0;34m(\u001b[0m\u001b[0;34m[\u001b[0m\u001b[0;34m[\u001b[0m\u001b[0mg1\u001b[0m\u001b[0;34m,\u001b[0m\u001b[0mg2\u001b[0m\u001b[0;34m]\u001b[0m\u001b[0;34m]\u001b[0m\u001b[0;34m)\u001b[0m\u001b[0;34m.\u001b[0m\u001b[0mT\u001b[0m\u001b[0;34m\u001b[0m\u001b[0;34m\u001b[0m\u001b[0m\n\u001b[1;32m     16\u001b[0m     \u001b[0mprint\u001b[0m\u001b[0;34m(\u001b[0m\u001b[0mg\u001b[0m\u001b[0;34m)\u001b[0m\u001b[0;34m\u001b[0m\u001b[0;34m\u001b[0m\u001b[0m\n\u001b[0;32m---> 17\u001b[0;31m     \u001b[0meng\u001b[0m \u001b[0;34m=\u001b[0m \u001b[0mnp\u001b[0m\u001b[0;34m.\u001b[0m\u001b[0msqrt\u001b[0m\u001b[0;34m(\u001b[0m\u001b[0mg\u001b[0m\u001b[0;34m.\u001b[0m\u001b[0mT\u001b[0m\u001b[0;34m@\u001b[0m\u001b[0mA\u001b[0m\u001b[0;34m@\u001b[0m\u001b[0mg\u001b[0m\u001b[0;34m)\u001b[0m\u001b[0;34m\u001b[0m\u001b[0;34m\u001b[0m\u001b[0m\n\u001b[0m\u001b[1;32m     18\u001b[0m     \u001b[0;32mif\u001b[0m \u001b[0mh_val\u001b[0m\u001b[0;34m<=\u001b[0m \u001b[0;36m0\u001b[0m \u001b[0;32mand\u001b[0m \u001b[0meng\u001b[0m \u001b[0;34m<\u001b[0m \u001b[0mepsilon\u001b[0m\u001b[0;34m:\u001b[0m\u001b[0;34m\u001b[0m\u001b[0;34m\u001b[0m\u001b[0m\n\u001b[1;32m     19\u001b[0m         \u001b[0;32mbreak\u001b[0m\u001b[0;34m\u001b[0m\u001b[0;34m\u001b[0m\u001b[0m\n",
      "\u001b[0;31mValueError\u001b[0m: matmul: Input operand 1 has a mismatch in its core dimension 0, with gufunc signature (n?,k),(k,m?)->(n?,m?) (size 2 is different from 1)"
     ]
    }
   ],
   "source": [
    "k =0\n",
    "# define starting ellipsoid\n",
    "#x^2 / 4 + y^2 / 1 <= 1\n",
    "A = np.array([[1/4,0],[0,1]])\n",
    "x = np.array([[0],[0]])\n",
    "n = 2 \n",
    "epsilon = 1e-6\n",
    "for i in range(15):\n",
    "    h_val, h_f = h(x[0], x[1])\n",
    "    if h_val <= 0:\n",
    "        g1, g2 = nabla_f(x[0], x[1])\n",
    "        print(g1, g2)\n",
    "    else:\n",
    "        g1, g2 =nabla_h(x[0], x[1], h_f)\n",
    "    g = np.array([[g1,g2]]).T\n",
    "    eng = np.sqrt(g.T@A@g)\n",
    "    if h_val<= 0 and eng < epsilon:\n",
    "        break\n",
    "    if h_val > eng:\n",
    "        print(\"infeasible\")\n",
    "        break\n",
    "    # update\n",
    "    top = A@g@g.T@A\n",
    "    bottom = g.T@A@g\n",
    "    A = n**2/(n**2-1) *(A-(2/(n+1))*(top/bottom[0,0]))\n",
    "    x = x - (1/(n+1))*(A@g/np.sqrt(g.T@A@g))\n",
    "    k += 1\n",
    "print(x)"
   ]
  },
  {
   "cell_type": "markdown",
   "metadata": {},
   "source": [
    "A starting ellipsoid that contains the feasible region is given by x^2 / 4 + y^2 / 1 <= 1, but note that the centre of this ellipsoid is at zero, so you will have to choose a g_x that lies in the subdifferential of the constraint function g(x,y) = [-x,-y] <= 0 at this step. Use this starting ellipsoid and compute sufficient steps of the ellipsoid algorithm to ensure convergence to within 1e-6. Check that the answer you obtain is the same as the analytical solution (x,y) = (4/3, sqrt(1/3))."
   ]
  },
  {
   "cell_type": "code",
   "execution_count": null,
   "metadata": {},
   "outputs": [],
   "source": []
  }
 ],
 "metadata": {
  "kernelspec": {
   "display_name": "Python 3",
   "language": "python",
   "name": "python3"
  },
  "language_info": {
   "codemirror_mode": {
    "name": "ipython",
    "version": 3
   },
   "file_extension": ".py",
   "mimetype": "text/x-python",
   "name": "python",
   "nbconvert_exporter": "python",
   "pygments_lexer": "ipython3",
   "version": "3.7.2"
  }
 },
 "nbformat": 4,
 "nbformat_minor": 2
}
