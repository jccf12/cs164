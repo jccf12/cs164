{
 "cells": [
  {
   "cell_type": "code",
   "execution_count": 12,
   "metadata": {},
   "outputs": [
    {
     "name": "stdout",
     "output_type": "stream",
     "text": [
      "status: optimal\n",
      "optimal value -17.142857142857146\n",
      "optimal var 5.714285714285715 8.24077371096004e-31\n"
     ]
    }
   ],
   "source": [
    "import cvxpy as cp\n",
    "\n",
    "# Create two scalar optimization variables.\n",
    "x = cp.Variable()\n",
    "y = cp.Variable()\n",
    "\n",
    "# Create two constraints.\n",
    "constraints = [7*x + 3*y >= 40,\n",
    "               y >= 0,\n",
    "               x >= 0]\n",
    "\n",
    "#objective is the negated P so we can use minimization instead\n",
    "obj = cp.Minimize(3*x+ 6*y)\n",
    "\n",
    "# Form and solve problem.\n",
    "prob = cp.Problem(obj, constraints)\n",
    "prob.solve()  # Returns the optimal value.\n",
    "print(\"status:\", prob.status)\n",
    "print(\"optimal value\", -prob.value)\n",
    "print(\"optimal var\", x.value, y.value)"
   ]
  },
  {
   "cell_type": "code",
   "execution_count": 13,
   "metadata": {},
   "outputs": [
    {
     "name": "stdout",
     "output_type": "stream",
     "text": [
      "status: optimal\n",
      "optimal value -18.0\n",
      "optimal var 6.0 7.364367214079417e-31\n"
     ]
    }
   ],
   "source": [
    "constraints = [7*x + 3*y >= 40,\n",
    "               y >= 0,\n",
    "               x >= 6]\n",
    "\n",
    "#objective is the negated P so we can use minimization instead\n",
    "obj = cp.Minimize(3*x+ 6*y)\n",
    "\n",
    "# Form and solve problem.\n",
    "prob = cp.Problem(obj, constraints)\n",
    "prob.solve()  # Returns the optimal value.\n",
    "print(\"status:\", prob.status)\n",
    "print(\"optimal value\", -prob.value)\n",
    "print(\"optimal var\", x.value, y.value)"
   ]
  },
  {
   "cell_type": "code",
   "execution_count": 14,
   "metadata": {},
   "outputs": [
    {
     "name": "stdout",
     "output_type": "stream",
     "text": [
      "status: optimal\n",
      "optimal value -66.00000000000001\n",
      "optimal var 6.0 7.999999999999999\n"
     ]
    }
   ],
   "source": [
    "constraints = [7*x + 3*y >= 40,\n",
    "               y >= 8,\n",
    "               x >= 6]\n",
    "\n",
    "#objective is the negated P so we can use minimization instead\n",
    "obj = cp.Minimize(3*x+ 6*y)\n",
    "\n",
    "# Form and solve problem.\n",
    "prob = cp.Problem(obj, constraints)\n",
    "prob.solve()  # Returns the optimal value.\n",
    "print(\"status:\", prob.status)\n",
    "print(\"optimal value\", -prob.value)\n",
    "print(\"optimal var\", x.value, y.value)"
   ]
  },
  {
   "cell_type": "code",
   "execution_count": 16,
   "metadata": {},
   "outputs": [
    {
     "name": "stdout",
     "output_type": "stream",
     "text": [
      "status: optimal\n",
      "optimal value -18.0\n",
      "optimal var 6.0 7.364367214079417e-31\n"
     ]
    }
   ],
   "source": [
    "constraints = [7*x + 3*y >= 40,\n",
    "               y <= 6,\n",
    "               y >= 0,\n",
    "               x >= 6]\n",
    "\n",
    "#objective is the negated P so we can use minimization instead\n",
    "obj = cp.Minimize(3*x+ 6*y)\n",
    "\n",
    "# Form and solve problem.\n",
    "prob = cp.Problem(obj, constraints)\n",
    "prob.solve()  # Returns the optimal value.\n",
    "print(\"status:\", prob.status)\n",
    "print(\"optimal value\", -prob.value)\n",
    "print(\"optimal var\", x.value, y.value)"
   ]
  },
  {
   "cell_type": "code",
   "execution_count": 17,
   "metadata": {},
   "outputs": [
    {
     "name": "stdout",
     "output_type": "stream",
     "text": [
      "status: optimal\n",
      "optimal value -25.000000000000014\n",
      "optimal var 5.0 1.6666666666666683\n"
     ]
    }
   ],
   "source": [
    "constraints = [7*x + 3*y >= 40,\n",
    "               y >= 0,\n",
    "               x <= 5,\n",
    "               x >= 0]\n",
    "\n",
    "#objective is the negated P so we can use minimization instead\n",
    "obj = cp.Minimize(3*x+ 6*y)\n",
    "\n",
    "# Form and solve problem.\n",
    "prob = cp.Problem(obj, constraints)\n",
    "prob.solve()  # Returns the optimal value.\n",
    "print(\"status:\", prob.status)\n",
    "print(\"optimal value\", -prob.value)\n",
    "print(\"optimal var\", x.value, y.value)"
   ]
  }
 ],
 "metadata": {
  "kernelspec": {
   "display_name": "Python 3",
   "language": "python",
   "name": "python3"
  },
  "language_info": {
   "codemirror_mode": {
    "name": "ipython",
    "version": 3
   },
   "file_extension": ".py",
   "mimetype": "text/x-python",
   "name": "python",
   "nbconvert_exporter": "python",
   "pygments_lexer": "ipython3",
   "version": "3.7.2"
  }
 },
 "nbformat": 4,
 "nbformat_minor": 2
}
